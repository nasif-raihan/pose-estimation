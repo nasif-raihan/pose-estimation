{
  "nbformat": 4,
  "nbformat_minor": 0,
  "metadata": {
    "colab": {
      "provenance": [],
      "include_colab_link": true
    },
    "kernelspec": {
      "name": "python3",
      "display_name": "Python 3"
    },
    "language_info": {
      "name": "python"
    },
    "gpuClass": "standard"
  },
  "cells": [
    {
      "cell_type": "markdown",
      "metadata": {
        "id": "view-in-github",
        "colab_type": "text"
      },
      "source": [
        "<a href=\"https://colab.research.google.com/github/nasif-raihan/pose-estimation/blob/main/pose_estimation.ipynb\" target=\"_parent\"><img src=\"https://colab.research.google.com/assets/colab-badge.svg\" alt=\"Open In Colab\"/></a>"
      ]
    },
    {
      "cell_type": "markdown",
      "source": [
        "# [pose-estimation](https://github.com/sithu31296/pose-estimation)"
      ],
      "metadata": {
        "id": "-pql1CM0Z3Vh"
      }
    },
    {
      "cell_type": "code",
      "source": [
        "# CPU only\n",
        "!pip install torch==1.9.0+cpu torchvision==0.10.0+cpu torchaudio==0.9.0 -f https://download.pytorch.org/whl/torch_stable.html"
      ],
      "metadata": {
        "id": "5ZtFZcqzSvr2",
        "colab": {
          "base_uri": "https://localhost:8080/"
        },
        "outputId": "1db49b96-3a0c-4946-f986-0bb88253d897"
      },
      "execution_count": null,
      "outputs": [
        {
          "output_type": "stream",
          "name": "stdout",
          "text": [
            "Looking in indexes: https://pypi.org/simple, https://us-python.pkg.dev/colab-wheels/public/simple/\n",
            "Looking in links: https://download.pytorch.org/whl/torch_stable.html\n",
            "Collecting torch==1.9.0+cpu\n",
            "  Downloading https://download.pytorch.org/whl/cpu/torch-1.9.0%2Bcpu-cp38-cp38-linux_x86_64.whl (175.5 MB)\n",
            "\u001b[K     |████████████████████████████████| 175.5 MB 57 kB/s \n",
            "\u001b[?25hCollecting torchvision==0.10.0+cpu\n",
            "  Downloading https://download.pytorch.org/whl/cpu/torchvision-0.10.0%2Bcpu-cp38-cp38-linux_x86_64.whl (15.7 MB)\n",
            "\u001b[K     |████████████████████████████████| 15.7 MB 51.3 MB/s \n",
            "\u001b[?25hCollecting torchaudio==0.9.0\n",
            "  Downloading torchaudio-0.9.0-cp38-cp38-manylinux1_x86_64.whl (1.9 MB)\n",
            "\u001b[K     |████████████████████████████████| 1.9 MB 23.3 MB/s \n",
            "\u001b[?25hRequirement already satisfied: typing-extensions in /usr/local/lib/python3.8/dist-packages (from torch==1.9.0+cpu) (4.4.0)\n",
            "Requirement already satisfied: numpy in /usr/local/lib/python3.8/dist-packages (from torchvision==0.10.0+cpu) (1.21.6)\n",
            "Requirement already satisfied: pillow>=5.3.0 in /usr/local/lib/python3.8/dist-packages (from torchvision==0.10.0+cpu) (7.1.2)\n",
            "Installing collected packages: torch, torchvision, torchaudio\n",
            "  Attempting uninstall: torch\n",
            "    Found existing installation: torch 1.13.0+cu116\n",
            "    Uninstalling torch-1.13.0+cu116:\n",
            "      Successfully uninstalled torch-1.13.0+cu116\n",
            "  Attempting uninstall: torchvision\n",
            "    Found existing installation: torchvision 0.14.0+cu116\n",
            "    Uninstalling torchvision-0.14.0+cu116:\n",
            "      Successfully uninstalled torchvision-0.14.0+cu116\n",
            "  Attempting uninstall: torchaudio\n",
            "    Found existing installation: torchaudio 0.13.0+cu116\n",
            "    Uninstalling torchaudio-0.13.0+cu116:\n",
            "      Successfully uninstalled torchaudio-0.13.0+cu116\n",
            "\u001b[31mERROR: pip's dependency resolver does not currently take into account all the packages that are installed. This behaviour is the source of the following dependency conflicts.\n",
            "torchtext 0.14.0 requires torch==1.13.0, but you have torch 1.9.0+cpu which is incompatible.\u001b[0m\n",
            "Successfully installed torch-1.9.0+cpu torchaudio-0.9.0 torchvision-0.10.0+cpu\n"
          ]
        }
      ]
    },
    {
      "cell_type": "code",
      "source": [
        "import torch\n",
        "torch.__version__"
      ],
      "metadata": {
        "colab": {
          "base_uri": "https://localhost:8080/",
          "height": 37
        },
        "id": "UGIJeKZnS7sC",
        "outputId": "4a7e2064-a37e-461c-d347-51c3f046c40d"
      },
      "execution_count": null,
      "outputs": [
        {
          "output_type": "execute_result",
          "data": {
            "text/plain": [
              "'1.9.0+cpu'"
            ],
            "application/vnd.google.colaboratory.intrinsic+json": {
              "type": "string"
            }
          },
          "metadata": {},
          "execution_count": 2
        }
      ]
    },
    {
      "cell_type": "code",
      "source": [
        "import torchvision\n",
        "torchvision.__version__"
      ],
      "metadata": {
        "colab": {
          "base_uri": "https://localhost:8080/",
          "height": 37
        },
        "id": "EdlYA6QCTAn4",
        "outputId": "113b92b5-1743-450c-983f-14c27c9e30ac"
      },
      "execution_count": null,
      "outputs": [
        {
          "output_type": "execute_result",
          "data": {
            "text/plain": [
              "'0.10.0+cpu'"
            ],
            "application/vnd.google.colaboratory.intrinsic+json": {
              "type": "string"
            }
          },
          "metadata": {},
          "execution_count": 3
        }
      ]
    },
    {
      "cell_type": "code",
      "execution_count": null,
      "metadata": {
        "colab": {
          "base_uri": "https://localhost:8080/"
        },
        "id": "jvp443zF1gCk",
        "outputId": "9ea49eb8-a35d-4619-9d20-6ef9dc3ea433"
      },
      "outputs": [
        {
          "output_type": "stream",
          "name": "stdout",
          "text": [
            "Cloning into 'pose-estimation'...\n",
            "remote: Enumerating objects: 137, done.\u001b[K\n",
            "remote: Counting objects: 100% (137/137), done.\u001b[K\n",
            "remote: Compressing objects: 100% (104/104), done.\u001b[K\n",
            "remote: Total 137 (delta 55), reused 109 (delta 27), pack-reused 0\u001b[K\n",
            "Receiving objects: 100% (137/137), 2.33 MiB | 25.63 MiB/s, done.\n",
            "Resolving deltas: 100% (55/55), done.\n",
            "Submodule 'yolov5' (https://github.com/ultralytics/yolov5) registered for path 'yolov5'\n",
            "Cloning into '/content/pose-estimation/yolov5'...\n",
            "remote: Enumerating objects: 14882, done.        \n",
            "remote: Total 14882 (delta 0), reused 0 (delta 0), pack-reused 14882        \n",
            "Receiving objects: 100% (14882/14882), 13.86 MiB | 26.28 MiB/s, done.\n",
            "Resolving deltas: 100% (10246/10246), done.\n",
            "Submodule path 'yolov5': checked out 'aa1859909c96d5e1fc839b2746b45038ee8465c9'\n"
          ]
        }
      ],
      "source": [
        "!git clone --recursive https://github.com/sithu31296/pose-estimation.git"
      ]
    },
    {
      "cell_type": "code",
      "source": [
        "!pip install -r /content/pose-estimation/requirements.txt"
      ],
      "metadata": {
        "colab": {
          "base_uri": "https://localhost:8080/"
        },
        "id": "FrQSgLKN2Ms7",
        "outputId": "064c298c-ddf1-40bb-961a-dc976e06afb6"
      },
      "execution_count": null,
      "outputs": [
        {
          "output_type": "stream",
          "name": "stdout",
          "text": [
            "Looking in indexes: https://pypi.org/simple, https://us-python.pkg.dev/colab-wheels/public/simple/\n",
            "Requirement already satisfied: opencv-python in /usr/local/lib/python3.8/dist-packages (from -r /content/pose-estimation/requirements.txt (line 1)) (4.6.0.66)\n",
            "Requirement already satisfied: numpy in /usr/local/lib/python3.8/dist-packages (from -r /content/pose-estimation/requirements.txt (line 2)) (1.21.6)\n",
            "Requirement already satisfied: tqdm in /usr/local/lib/python3.8/dist-packages (from -r /content/pose-estimation/requirements.txt (line 3)) (4.64.1)\n"
          ]
        }
      ]
    },
    {
      "cell_type": "code",
      "source": [
        "from google.colab import drive\n",
        "drive.mount('/content/drive')"
      ],
      "metadata": {
        "colab": {
          "base_uri": "https://localhost:8080/"
        },
        "id": "fRqzAkah6KGQ",
        "outputId": "62ccee76-ffb6-47de-cb49-9bad53c4c9e0"
      },
      "execution_count": null,
      "outputs": [
        {
          "output_type": "stream",
          "name": "stdout",
          "text": [
            "Drive already mounted at /content/drive; to attempt to forcibly remount, call drive.mount(\"/content/drive\", force_remount=True).\n"
          ]
        }
      ]
    },
    {
      "cell_type": "code",
      "source": [
        "TEST_SOURCE = '/content/pose-estimation/assests/test.jpg'\n",
        "DET_MODEL_PATH = '/content/drive/MyDrive/pose-estimation/crowdhuman_yolov5m.pt'\n",
        "POSE_MODEL_PATH = '/content/drive/MyDrive/pose-estimation/simdr_hrnet_w48_256x192.pth'"
      ],
      "metadata": {
        "id": "WuOzgv506oPI"
      },
      "execution_count": null,
      "outputs": []
    },
    {
      "cell_type": "code",
      "source": [
        "%cd /content/pose-estimation/\n",
        "!ls"
      ],
      "metadata": {
        "colab": {
          "base_uri": "https://localhost:8080/"
        },
        "id": "GMuEKz53TzS7",
        "outputId": "b412fa7b-1d27-4c25-cbb3-b8c4f6db8aaf"
      },
      "execution_count": null,
      "outputs": [
        {
          "output_type": "stream",
          "name": "stdout",
          "text": [
            "/content/pose-estimation\n",
            "assests  infer.py  LICENSE  pose  README.md  requirements.txt  yolov5\n"
          ]
        }
      ]
    },
    {
      "cell_type": "code",
      "source": [
        "!python /content/pose-estimation/infer.py --source {TEST_SOURCE} --det-model {DET_MODEL_PATH} --pose-model {POSE_MODEL_PATH} --img-size 640"
      ],
      "metadata": {
        "colab": {
          "base_uri": "https://localhost:8080/"
        },
        "id": "zNKM-9482VX3",
        "outputId": "2bbc7e35-e592-42dc-e363-c01a37a1b6ac"
      },
      "execution_count": null,
      "outputs": [
        {
          "output_type": "stream",
          "name": "stdout",
          "text": [
            "Downloading https://ultralytics.com/assets/Arial.ttf to /root/.config/Ultralytics/Arial.ttf...\n",
            "100% 755k/755k [00:00<00:00, 103MB/s]\n"
          ]
        }
      ]
    }
  ]
}