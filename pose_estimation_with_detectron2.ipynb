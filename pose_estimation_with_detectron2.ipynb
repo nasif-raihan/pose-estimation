{
  "nbformat": 4,
  "nbformat_minor": 0,
  "metadata": {
    "colab": {
      "provenance": [],
      "include_colab_link": true
    },
    "kernelspec": {
      "name": "python3",
      "display_name": "Python 3"
    },
    "language_info": {
      "name": "python"
    },
    "accelerator": "GPU",
    "gpuClass": "standard"
  },
  "cells": [
    {
      "cell_type": "markdown",
      "metadata": {
        "id": "view-in-github",
        "colab_type": "text"
      },
      "source": [
        "<a href=\"https://colab.research.google.com/github/nasif-raihan/pose-estimation/blob/main/pose_estimation_with_detectron2.ipynb\" target=\"_parent\"><img src=\"https://colab.research.google.com/assets/colab-badge.svg\" alt=\"Open In Colab\"/></a>"
      ]
    },
    {
      "cell_type": "markdown",
      "source": [
        "# Configure"
      ],
      "metadata": {
        "id": "XMuo1S2CRsYw"
      }
    },
    {
      "cell_type": "code",
      "execution_count": null,
      "metadata": {
        "colab": {
          "base_uri": "https://localhost:8080/"
        },
        "id": "rpAvBG2QaXrI",
        "outputId": "ec703b48-6c00-49ec-c823-8fd461661467"
      },
      "outputs": [
        {
          "output_type": "stream",
          "name": "stdout",
          "text": [
            "\u001b[K     |████████████████████████████████| 703.8 MB 13 kB/s \n",
            "\u001b[K     |████████████████████████████████| 6.6 MB 61.8 MB/s \n",
            "\u001b[31mERROR: pip's dependency resolver does not currently take into account all the packages that are installed. This behaviour is the source of the following dependency conflicts.\n",
            "torchtext 0.14.0 requires torch==1.13.0, but you have torch 1.5.0+cu101 which is incompatible.\n",
            "torchaudio 0.13.0+cu116 requires torch==1.13.0, but you have torch 1.5.0+cu101 which is incompatible.\n",
            "fastai 2.7.10 requires torch<1.14,>=1.7, but you have torch 1.5.0+cu101 which is incompatible.\n",
            "fastai 2.7.10 requires torchvision>=0.8.2, but you have torchvision 0.6.0+cu101 which is incompatible.\u001b[0m\n",
            "\u001b[K     |████████████████████████████████| 274 kB 14.6 MB/s \n",
            "\u001b[?25h  Building wheel for pyyaml (setup.py) ... \u001b[?25l\u001b[?25hdone\n",
            "\u001b[31mERROR: pip's dependency resolver does not currently take into account all the packages that are installed. This behaviour is the source of the following dependency conflicts.\n",
            "fastai 2.7.10 requires torch<1.14,>=1.7, but you have torch 1.5.0+cu101 which is incompatible.\n",
            "fastai 2.7.10 requires torchvision>=0.8.2, but you have torchvision 0.6.0+cu101 which is incompatible.\n",
            "dask 2022.2.1 requires pyyaml>=5.3.1, but you have pyyaml 5.1 which is incompatible.\u001b[0m\n",
            "  Building wheel for pycocotools (setup.py) ... \u001b[?25l\u001b[?25hdone\n",
            "\u001b[K     |████████████████████████████████| 6.9 MB 513 kB/s \n",
            "\u001b[?25h  Installing build dependencies ... \u001b[?25l\u001b[?25hdone\n",
            "  Getting requirements to build wheel ... \u001b[?25l\u001b[?25hdone\n",
            "    Preparing wheel metadata ... \u001b[?25l\u001b[?25hdone\n",
            "\u001b[K     |████████████████████████████████| 50 kB 6.9 MB/s \n",
            "\u001b[K     |████████████████████████████████| 42 kB 1.2 MB/s \n",
            "\u001b[?25h  Building wheel for fvcore (setup.py) ... \u001b[?25l\u001b[?25hdone\n",
            "  Building wheel for iopath (setup.py) ... \u001b[?25l\u001b[?25hdone\n",
            "  Building wheel for pycocotools (PEP 517) ... \u001b[?25l\u001b[?25hdone\n"
          ]
        }
      ],
      "source": [
        "!pip install -qqU torch==1.5 torchvision==0.6 -f https://download.pytorch.org/whl/cu101/torch_stable.html\n",
        "\n",
        "!pip install -qq cython pyyaml==5.1\n",
        "\n",
        "!pip install -qqU 'git+https://github.com/cocodataset/cocoapi.git#subdirectory=PythonAPI'\n",
        "\n",
        "!pip install -qq detectron2 -f https://dl.fbaipublicfiles.com/detectron2/wheels/cu101/torch1.5/index.html"
      ]
    },
    {
      "cell_type": "code",
      "source": [
        "# Some basic setup:\n",
        "# Setup detectron2 logger\n",
        "import detectron2\n",
        "from detectron2.utils.logger import setup_logger\n",
        "setup_logger()\n",
        "\n",
        "# import some common libraries\n",
        "import numpy as np\n",
        "import os, json, cv2, random\n",
        "import matplotlib.pyplot as plt\n",
        "from google.colab.patches import cv2_imshow"
      ],
      "metadata": {
        "id": "KE_xQE5ygocA"
      },
      "execution_count": null,
      "outputs": []
    },
    {
      "cell_type": "code",
      "source": [
        "# import some common detectron2 utilities\n",
        "from detectron2 import model_zoo\n",
        "from detectron2.engine import DefaultPredictor\n",
        "from detectron2.config import get_cfg\n",
        "from detectron2.utils.visualizer import Visualizer\n",
        "from detectron2.data import MetadataCatalog, DatasetCatalog"
      ],
      "metadata": {
        "id": "kewCw1cWeMlW"
      },
      "execution_count": null,
      "outputs": []
    },
    {
      "cell_type": "code",
      "source": [
        "cfg = get_cfg()\n",
        "# add project-specific config (e.g., TensorMask) here if you're not running a model in detectron2's core library\n",
        "cfg.merge_from_file(model_zoo.get_config_file(\"COCO-Keypoints/keypoint_rcnn_X_101_32x8d_FPN_3x.yaml\"))\n",
        "cfg.MODEL.ROI_HEADS.SCORE_THRESH_TEST = 0.99  # set threshold for this model\n",
        "\n",
        "# Find a model from detectron2's model zoo. You can use the https://dl.fbaipublicfiles... url as well\n",
        "cfg.MODEL.WEIGHTS = model_zoo.get_checkpoint_url(\"COCO-Keypoints/keypoint_rcnn_X_101_32x8d_FPN_3x.yaml\")\n",
        "\n",
        "predictor = DefaultPredictor(cfg)"
      ],
      "metadata": {
        "colab": {
          "base_uri": "https://localhost:8080/"
        },
        "id": "UBVYxH9uxKOP",
        "outputId": "d95adf0c-190d-43b0-bce0-055f56ff4dca"
      },
      "execution_count": null,
      "outputs": [
        {
          "output_type": "stream",
          "name": "stderr",
          "text": [
            "model_final_5ad38f.pkl: 491MB [00:20, 24.1MB/s]                           \n"
          ]
        }
      ]
    },
    {
      "cell_type": "markdown",
      "source": [
        "# Run Model\n",
        "\n",
        "**17 key points from coco dataset**\n",
        "\n",
        "\n",
        "'nose': 0,\n",
        "\n",
        "'left_eye': 1, 'left_ear': 3, 'left_shoulder': 5, 'left_elbow': 7 'left_wrist': 9, 'left_hip': 11, 'left_knee': 13, 'left_ankle': 15,\n",
        "\n",
        "'right_eye': 2, 'right_ear': 4, 'right_shoulder': 6, 'right_elbow': 8 'right_wrist': 10, 'right_hip': 12, 'right_knee': 14, 'right_ankle': 16"
      ],
      "metadata": {
        "id": "8a9r2iNYxB05"
      }
    },
    {
      "cell_type": "code",
      "source": [
        "!gdown -q # put the gid here"
      ],
      "metadata": {
        "id": "cU_spf9XxAjJ"
      },
      "execution_count": null,
      "outputs": []
    },
    {
      "cell_type": "code",
      "source": [
        "cap = cv2.VideoCapture('/content/gait_raw.mp4')\n",
        "fps = cap.get((cv2.CAP_PROP_FPS))\n",
        "print(fps)"
      ],
      "metadata": {
        "id": "3UF35aEYxGA3",
        "colab": {
          "base_uri": "https://localhost:8080/"
        },
        "outputId": "20656adc-69a9-44b7-fa02-b685cbd03db5"
      },
      "execution_count": null,
      "outputs": [
        {
          "output_type": "stream",
          "name": "stdout",
          "text": [
            "29.97002997002997\n"
          ]
        }
      ]
    },
    {
      "cell_type": "code",
      "source": [
        "success, img = cap.read()\n",
        "w, h, c = img.shape\n",
        "video = cv2.VideoWriter(\"/content/rendered-video.mp4\", cv2.VideoWriter_fourcc('m','p','4','v'), fps, (h, w))"
      ],
      "metadata": {
        "id": "WKCfc5ZN1zyw"
      },
      "execution_count": null,
      "outputs": []
    },
    {
      "cell_type": "code",
      "source": [
        "outputs = predictor(img)\n",
        "\n",
        "print(outputs[\"instances\"].pred_classes)\n",
        "print(outputs[\"instances\"].pred_boxes)\n",
        "print(outputs['instances'].pred_keypoints.shape)"
      ],
      "metadata": {
        "colab": {
          "base_uri": "https://localhost:8080/"
        },
        "id": "MRI4dCFs5dN5",
        "outputId": "54dc0c93-cf98-4560-e148-753cf086201b"
      },
      "execution_count": null,
      "outputs": [
        {
          "output_type": "stream",
          "name": "stdout",
          "text": [
            "tensor([0], device='cuda:0')\n",
            "Boxes(tensor([[  1.2405,  21.2492, 101.2059, 220.9573]], device='cuda:0'))\n",
            "torch.Size([1, 17, 3])\n"
          ]
        }
      ]
    },
    {
      "cell_type": "code",
      "source": [
        "skeleton = {\n",
        "    (0, 1):   'm',\n",
        "    (0, 2):   'c',\n",
        "    (1, 3):   'm',\n",
        "    (2, 4):   'c',\n",
        "    (0, 5):   'm',\n",
        "    (0, 6):   'c',\n",
        "    (5, 7):   'm',\n",
        "    (7, 9):   'm',\n",
        "    (6, 8):   'c',\n",
        "    (8, 10):  'c',\n",
        "    (5, 6):   'y',\n",
        "    (5, 11):  'm',\n",
        "    (6, 12):  'c',\n",
        "    (11, 12): 'y',\n",
        "    (11, 13): 'm',\n",
        "    (13, 15): 'm',\n",
        "    (12, 14): 'c',\n",
        "    (14, 16): 'c'\n",
        "}\n",
        "\n",
        "def take_all_keyjoints(data, instance_no, axis):\n",
        "  name = []\n",
        "\n",
        "  for i in range(data.shape[1]):\n",
        "    name.append(data[instance_no][i][axis])\n",
        "\n",
        "  return name"
      ],
      "metadata": {
        "id": "CoMIrbxNxMVv"
      },
      "execution_count": null,
      "outputs": []
    },
    {
      "cell_type": "code",
      "source": [
        "while success:\n",
        "  success, img = cap.read()\n",
        "\n",
        "  if success == False:\n",
        "    break\n",
        "\n",
        "  outputs = predictor(img)\n",
        "\n",
        "  poses = outputs['instances'].pred_keypoints.cpu()\n",
        "\n",
        "  instance_x = take_all_keyjoints(poses, 0, 0)\n",
        "  instance_y = take_all_keyjoints(poses, 0, 1)\n",
        "\n",
        "  for edge, color in skeleton.items():\n",
        "    p1, p2 = edge\n",
        "\n",
        "    if color == 'm':\n",
        "        COLOR = (255, 0, 255)\n",
        "    elif color == 'c':\n",
        "        COLOR = (0, 255, 255)\n",
        "    else:\n",
        "        COLOR = (255,255,0)\n",
        "\n",
        "    x1 = poses[0][p1][0]\n",
        "    y1 = poses[0][p1][1]\n",
        "\n",
        "    x2 = poses[0][p2][0]\n",
        "    y2 = poses[0][p2][1]\n",
        "    \n",
        "    cv2.line(img, (int(x1), int(y1)), (int(x2), int(y2)), COLOR, 2)\n",
        "\n",
        "  video.write(img)\n",
        "\n",
        "video.release()"
      ],
      "metadata": {
        "id": "a_QhnKukxOng"
      },
      "execution_count": null,
      "outputs": []
    }
  ]
}